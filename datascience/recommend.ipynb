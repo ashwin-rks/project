{
 "cells": [
  {
   "cell_type": "code",
   "execution_count": 1,
   "metadata": {},
   "outputs": [],
   "source": [
    "import os\n",
    "import pandas as pd"
   ]
  },
  {
   "cell_type": "code",
   "execution_count": 2,
   "metadata": {},
   "outputs": [],
   "source": [
    "main_dir = r'C:\\Users\\AshwinR\\Documents\\project\\datascience\\data'\n",
    "\n",
    "user_df = pd.read_csv(os.path.join(main_dir, 'raw_User.csv'))\n",
    "department_df = pd.read_csv(os.path.join(main_dir, 'raw_Department.csv'))\n",
    "course_df = pd.read_csv(os.path.join(main_dir, 'raw_Course.csv'))\n",
    "course_department_df = pd.read_csv(os.path.join(main_dir, 'raw_CourseDepartment.csv'))\n",
    "course_users_df = pd.read_csv(os.path.join(main_dir, 'raw_CourseUser.csv'))\n",
    "skill_df = pd.read_csv(os.path.join(main_dir, 'raw_Skill.csv'))\n",
    "skill_department_df = pd.read_csv(os.path.join(main_dir, 'raw_SkillDepartment.csv'))\n",
    "skill_user_df = pd.read_csv(os.path.join(main_dir, 'raw_SkillUSers.csv'))\n"
   ]
  },
  {
   "cell_type": "markdown",
   "metadata": {},
   "source": [
    "# Collabrative Filtering"
   ]
  },
  {
   "cell_type": "code",
   "execution_count": 3,
   "metadata": {},
   "outputs": [],
   "source": [
    "# Data handling\n",
    "\n",
    "user_df = user_df.drop(columns=['first_name', 'last_name', 'email', 'password', 'account_type', 'createdAt', 'updatedAt', 'data_loaded_at'])\n",
    "user_df = user_df[user_df['dept_id'] != 1]\n",
    "\n",
    "skill_user_df = skill_user_df.drop(columns=['data_loaded_at'])\n",
    "course_users_df = course_users_df.drop(columns=['data_loaded_at'])\n"
   ]
  },
  {
   "cell_type": "code",
   "execution_count": 4,
   "metadata": {},
   "outputs": [],
   "source": [
    "user_skills = skill_user_df.groupby('user_id')['skill_id'].apply(list).reset_index()\n",
    "user_courses = course_users_df.groupby('user_id')['course_id'].apply(list).reset_index()\n",
    "\n",
    "user_skills.columns = ['user_id', 'skills']\n",
    "user_courses.columns = ['user_id', 'courses']"
   ]
  },
  {
   "cell_type": "code",
   "execution_count": 5,
   "metadata": {},
   "outputs": [],
   "source": [
    "user_combined = pd.merge(user_df, user_skills, on='user_id', how='left')\n",
    "user_combined = pd.merge(user_combined, user_courses, on='user_id', how='left')"
   ]
  },
  {
   "cell_type": "code",
   "execution_count": 6,
   "metadata": {},
   "outputs": [],
   "source": [
    "user_combined['skills'] = user_combined['skills'].apply(lambda x: x if isinstance(x, list) else [])\n",
    "user_combined['courses'] = user_combined['courses'].apply(lambda x: x if isinstance(x, list) else [])\n"
   ]
  },
  {
   "cell_type": "code",
   "execution_count": 7,
   "metadata": {},
   "outputs": [],
   "source": [
    "user_combined['skills'] = user_combined['skills'].apply(lambda skills: ['skill_' + str(skill) for skill in skills])\n",
    "user_combined['courses'] = user_combined['courses'].apply(lambda courses: ['course_' + str(course) for course in courses])\n",
    "\n",
    "user_combined['features'] = user_combined.apply(lambda x: x['skills'] + x['courses'], axis=1)"
   ]
  },
  {
   "cell_type": "code",
   "execution_count": 8,
   "metadata": {},
   "outputs": [],
   "source": [
    "from sklearn.preprocessing import MultiLabelBinarizer\n",
    "\n",
    "mlb = MultiLabelBinarizer()\n",
    "user_features = mlb.fit_transform(user_combined['features'])"
   ]
  },
  {
   "cell_type": "code",
   "execution_count": 9,
   "metadata": {},
   "outputs": [],
   "source": [
    "user_feature_df = pd.DataFrame(user_features, columns=mlb.classes_)\n",
    "user_feature_df['user_id'] = user_combined['user_id'].values\n",
    "user_feature_df.set_index('user_id', inplace=True)"
   ]
  },
  {
   "cell_type": "code",
   "execution_count": 10,
   "metadata": {},
   "outputs": [],
   "source": [
    "from sklearn.metrics.pairwise import cosine_similarity\n",
    "\n",
    "similarity_matrix = cosine_similarity(user_feature_df)\n",
    "\n",
    "similarity_df = pd.DataFrame(similarity_matrix, index=user_feature_df.index, columns=user_feature_df.index)\n"
   ]
  },
  {
   "cell_type": "code",
   "execution_count": 11,
   "metadata": {},
   "outputs": [],
   "source": [
    "def get_top_n_similar_users(similarity_df, user_id, n=5):\n",
    "    \"\"\"\n",
    "    Returns the top N most similar users for a given user_id, without department filtering.\n",
    "    \n",
    "    Args:\n",
    "    - similarity_df: DataFrame containing the similarity matrix.\n",
    "    - user_id: The user for whom we are finding similar users.\n",
    "    - n: The number of top similar users to return.\n",
    "    \n",
    "    Returns:\n",
    "    - A Series containing the top N similar users and their similarity scores.\n",
    "    \"\"\"\n",
    "    similar_users = similarity_df[user_id].sort_values(ascending=False).drop(user_id)\n",
    "    return similar_users.head(n)"
   ]
  },
  {
   "cell_type": "code",
   "execution_count": 12,
   "metadata": {},
   "outputs": [],
   "source": [
    "def recommend_courses_for_user(user_id, top_similar_users, user_combined, course_df, top_n=5):\n",
    "    \"\"\"\n",
    "    Recommends courses to a user based on the courses of their similar users, without department filtering.\n",
    "    \n",
    "    Args:\n",
    "    - user_id: The target user for whom recommendations are made.\n",
    "    - top_similar_users: Series of top similar users for the target user.\n",
    "    - user_combined: DataFrame with users and their enrolled courses.\n",
    "    - course_df: DataFrame containing course details (course_id, course_name).\n",
    "    - top_n: Number of top recommended courses to return.\n",
    "    \n",
    "    Returns:\n",
    "    - A DataFrame with the top N recommended courses (course_id, course_name).\n",
    "    \"\"\"\n",
    "    target_user_courses = set(user_combined[user_combined['user_id'] == user_id]['courses'].values[0])\n",
    "    \n",
    "    similar_users_courses = set()\n",
    "    for similar_user in top_similar_users.index:\n",
    "        courses = user_combined[user_combined['user_id'] == similar_user]['courses'].values[0]\n",
    "        similar_users_courses.update(courses)\n",
    "    \n",
    "    recommended_courses = similar_users_courses - target_user_courses\n",
    "    \n",
    "    recommended_df = pd.DataFrame({\n",
    "        'course_id': [int(course.split('_')[1]) for course in recommended_courses],  \n",
    "        'score': [1] * len(recommended_courses)  \n",
    "    })\n",
    "    \n",
    "    recommended_df = recommended_df.merge(course_df[['course_id', 'course_name']], on='course_id', how='left')\n",
    "    \n",
    "    return recommended_df[['course_id', 'course_name']].head(top_n)\n"
   ]
  },
  {
   "cell_type": "markdown",
   "metadata": {},
   "source": [
    "# Content Filtering"
   ]
  },
  {
   "cell_type": "code",
   "execution_count": 13,
   "metadata": {},
   "outputs": [],
   "source": [
    "# Loading dataset again\n",
    "main_dir = r'C:\\Users\\AshwinR\\Documents\\project\\datascience\\data'\n",
    "\n",
    "course_df = pd.read_csv(os.path.join(main_dir, 'raw_Course.csv'))"
   ]
  },
  {
   "cell_type": "code",
   "execution_count": 14,
   "metadata": {},
   "outputs": [],
   "source": [
    "course_df = course_df[['course_id', 'course_name', 'course_desc', 'course_creator']]"
   ]
  },
  {
   "cell_type": "code",
   "execution_count": 15,
   "metadata": {},
   "outputs": [],
   "source": [
    "from sklearn.feature_extraction.text import TfidfVectorizer\n",
    "\n",
    "course_df['course_features'] = course_df['course_name'] + \" \" + course_df['course_desc']\n",
    "\n",
    "tfidf = TfidfVectorizer(stop_words='english')\n",
    "course_tfidf_matrix = tfidf.fit_transform(course_df['course_features'])\n",
    "\n",
    "cosine_sim = cosine_similarity(course_tfidf_matrix, course_tfidf_matrix)"
   ]
  },
  {
   "cell_type": "code",
   "execution_count": 16,
   "metadata": {},
   "outputs": [],
   "source": [
    "def recommend_courses(course_ids, num_recommendations=5):\n",
    "    if not course_ids:\n",
    "        return pd.DataFrame(columns=['course_id', 'course_name'])\n",
    "\n",
    "    score_dict = {}\n",
    "    \n",
    "    for course_id in course_ids:\n",
    "        idx = course_df.index[course_df['course_id'] == course_id].tolist()\n",
    "        \n",
    "        if idx:  \n",
    "            idx = idx[0]\n",
    "            sim_scores = list(enumerate(cosine_sim[idx]))\n",
    "            \n",
    "            for i, score in sim_scores:\n",
    "                if i in score_dict:\n",
    "                    score_dict[i] += score\n",
    "                else:\n",
    "                    score_dict[i] = score\n",
    "\n",
    "    sorted_scores = sorted(score_dict.items(), key=lambda x: x[1], reverse=True)\n",
    "    top_courses = sorted_scores[:num_recommendations]\n",
    "\n",
    "    course_indices = [i[0] for i in top_courses]\n",
    "    \n",
    "    return course_df.iloc[course_indices][['course_id', 'course_name']]"
   ]
  },
  {
   "cell_type": "code",
   "execution_count": 19,
   "metadata": {},
   "outputs": [
    {
     "name": "stdout",
     "output_type": "stream",
     "text": [
      "   course_id                                        course_name\n",
      "0       1132         Practical Introduction to the Command Line\n",
      "1        404      Blockchain Opportunities Beyond Crypto Assets\n",
      "2        755  Elastic Google Cloud Infrastructure: Scaling a...\n",
      "3         33  Programming Mobile Applications for Android Ha...\n",
      "4       2355  Innovation Through Design: Think, Make, Break,...\n",
      "5          7       Agile Projects:  Developing Tasks with Taiga\n",
      "6       1404    Story and Narrative Development for Video Games\n",
      "7       1937              Introduction to Meteor.js Development\n",
      "8        133           Master Class for Corporate Entrepreneurs\n",
      "9        869            Design a Client Welcome Kit using Canva\n"
     ]
    }
   ],
   "source": [
    "def recommend_courses_for_user_combined(user_id, course_ids, user_combined, course_df, num_recommendations=10):\n",
    "    \"\"\"\n",
    "    Recommends courses to a user by combining collaborative filtering and content-based filtering.\n",
    "    \n",
    "    Args:\n",
    "    - user_id: The target user for whom recommendations are made.\n",
    "    - course_ids: List of course_ids that the user is interested in.\n",
    "    - user_combined: DataFrame with users and their enrolled courses.\n",
    "    - course_df: DataFrame containing course details (course_id, course_name).\n",
    "    - top_similar_users: Series of top similar users for the target user from collaborative filtering.\n",
    "    - num_recommendations: Total number of recommendations to return.\n",
    "    \n",
    "    Returns:\n",
    "    - A DataFrame with combined course recommendations (course_id, course_name).\n",
    "    \"\"\"\n",
    "    similar_users = get_top_n_similar_users(similarity_df, user_id, n=5)\n",
    "\n",
    "    collaborative_recommendations = recommend_courses_for_user(user_id, similar_users, user_combined, course_df, top_n=num_recommendations)\n",
    "\n",
    "    content_recommendations = recommend_courses(course_ids, num_recommendations)\n",
    "    \n",
    "    combined_recommendations = pd.concat([collaborative_recommendations, content_recommendations]).drop_duplicates().reset_index(drop=True)\n",
    "    \n",
    "    if len(combined_recommendations) > num_recommendations:\n",
    "        return combined_recommendations.head(num_recommendations)\n",
    "    \n",
    "    return combined_recommendations\n",
    "\n",
    "user_id = 678\n",
    "course_ids = [1, 2, 3]  \n",
    "final_recommendations = recommend_courses_for_user_combined(user_id, course_ids, user_combined, course_df, num_recommendations=10)\n",
    "print(final_recommendations)"
   ]
  }
 ],
 "metadata": {
  "kernelspec": {
   "display_name": "venv",
   "language": "python",
   "name": "python3"
  },
  "language_info": {
   "codemirror_mode": {
    "name": "ipython",
    "version": 3
   },
   "file_extension": ".py",
   "mimetype": "text/x-python",
   "name": "python",
   "nbconvert_exporter": "python",
   "pygments_lexer": "ipython3",
   "version": "3.12.5"
  }
 },
 "nbformat": 4,
 "nbformat_minor": 2
}
